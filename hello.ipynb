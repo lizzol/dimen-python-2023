{
 "cells": [
  {
   "attachments": {},
   "cell_type": "markdown",
   "metadata": {},
   "source": [
    "### Intro to data types"
   ]
  },
  {
   "cell_type": "code",
   "execution_count": 1,
   "metadata": {},
   "outputs": [
    {
     "name": "stdout",
     "output_type": "stream",
     "text": [
      "hello world! :)\n"
     ]
    }
   ],
   "source": [
    "# we can use the print function to print a string with either \" or '\n",
    "print('hello world! :)')"
   ]
  },
  {
   "cell_type": "code",
   "execution_count": 2,
   "metadata": {},
   "outputs": [
    {
     "name": "stdout",
     "output_type": "stream",
     "text": [
      "hello\n"
     ]
    }
   ],
   "source": [
    "# we can set variables of many types e.g. strings\n",
    "test = 'hello'\n",
    "print(test)\n",
    "# this allows us to store data so we can mess with it"
   ]
  },
  {
   "cell_type": "code",
   "execution_count": 3,
   "metadata": {},
   "outputs": [],
   "source": [
    "# we can find out the data type by using the type function\n",
    "type(test)\n",
    "# numeric types can be integers or floats\n",
    "\n",
    "#integer\n",
    "number = 10\n",
    "#float\n",
    "floaty = 5.4"
   ]
  },
  {
   "cell_type": "code",
   "execution_count": 4,
   "metadata": {},
   "outputs": [
    {
     "name": "stdout",
     "output_type": "stream",
     "text": [
      "15.4\n"
     ]
    }
   ],
   "source": [
    "# numbers can be used together regardless of type\n",
    "\n",
    "add = number + floaty\n",
    "print(add)\n",
    "\n",
    "# some types aren't compatible e.g. integer + string (because it doesn't know whether to add or concatenate)"
   ]
  },
  {
   "attachments": {},
   "cell_type": "markdown",
   "metadata": {},
   "source": [
    "### Operators"
   ]
  },
  {
   "cell_type": "code",
   "execution_count": 5,
   "metadata": {},
   "outputs": [
    {
     "data": {
      "text/plain": [
       "1"
      ]
     },
     "execution_count": 5,
     "metadata": {},
     "output_type": "execute_result"
    }
   ],
   "source": [
    "# operators include + - / *\n",
    "# division normally makes floats, even when input and output could both be integers\n",
    "36 / 6\n",
    "\n",
    "15 // 5\n",
    "\n",
    "# modulo outputs remainder when dividing\n",
    "15 % 2\n",
    "\n",
    "# exponents use **"
   ]
  },
  {
   "cell_type": "code",
   "execution_count": 6,
   "metadata": {},
   "outputs": [
    {
     "data": {
      "text/plain": [
       "'foofoofoofoofoofoofoofoofoofoo'"
      ]
     },
     "execution_count": 6,
     "metadata": {},
     "output_type": "execute_result"
    }
   ],
   "source": [
    "# strings can be concatenated\n",
    "\"foo\" + \"bar\"\n",
    "\n",
    "# but many operators can't use strings\n",
    "# e.g. \"foo\" - \"bar\"\n",
    "\n",
    "# strings can even be multiplied\n",
    "\"foo\" * 10"
   ]
  },
  {
   "attachments": {},
   "cell_type": "markdown",
   "metadata": {},
   "source": [
    "### Python Collections "
   ]
  },
  {
   "cell_type": "code",
   "execution_count": 7,
   "metadata": {},
   "outputs": [
    {
     "name": "stdout",
     "output_type": "stream",
     "text": [
      "[1, '2', 3.2]\n",
      "1\n",
      "3.2\n",
      "[1, '2']\n",
      "['2', 3.2]\n"
     ]
    }
   ],
   "source": [
    "# lists are in []\n",
    "my_list = [1, '2', 3.2]\n",
    "print(my_list)\n",
    "\n",
    "# lists are indexed. this always starts from 0 (unlike R)\n",
    "# to extract data from these lists we can use the index\n",
    "print(my_list[0])\n",
    "# we can also count from the end of the list\n",
    "print(my_list[-1])\n",
    "\n",
    "# we can return a subset of the list\n",
    "print(my_list[0:2]) # returns [1, '2']\n",
    "# this returns everything from index 1 to the end of the list\n",
    "print(my_list[1:]) # returns ['2', 3.2]"
   ]
  },
  {
   "cell_type": "code",
   "execution_count": 8,
   "metadata": {},
   "outputs": [
    {
     "name": "stdout",
     "output_type": "stream",
     "text": [
      "2\n",
      "[4, 5, 6]\n"
     ]
    }
   ],
   "source": [
    "# dictionary\n",
    "# input key:value\n",
    "# values can be many forms e.g. lists\n",
    "my_dict = {'one':1, 'two':2, 'three':3, 'a_few_more':[4,5,6]}\n",
    "\n",
    "# a dictionary isn't indexed, as it uses the keys we input instead\n",
    "# to return specific values, you have to input the associated key \n",
    "print(my_dict['two'])\n",
    "print(my_dict['a_few_more'])\n",
    "# can be useful for things like gene names\n",
    "# it is also often quicker to return values"
   ]
  },
  {
   "attachments": {},
   "cell_type": "markdown",
   "metadata": {},
   "source": [
    "### version control"
   ]
  },
  {
   "cell_type": "code",
   "execution_count": 9,
   "metadata": {},
   "outputs": [],
   "source": [
    "# to reduce the storage used, we can save changes instead of saving the whole code with the changes made every time we want to adjust\n",
    "# this gives us a history of all the changes which can be very useful for e.g. reproducibility, retracing steps\n",
    "# git is an application used for version control. must be installed\n",
    "# on this you can save commits (snapshots of changes)\n",
    "# github allows you to share repositories with all these history trees to a remote server -> not just with other people, also a way to \n",
    "# backup code for yourself and share between devices. they can be private or public. if made public you should include a license\n",
    "# git and github are a bit weird -> guide on the hackpad\n",
    "\n",
    "# on the terminal (command line) use git init command to activate git\n",
    "# git status tells us what is tracked/untracked to our commit\n",
    "# git add hello.ipynb adds our current file to our commit\n",
    "# this can be reversed with git restore\n",
    "# it best to add changes in little chunks just in case we want to undo later\n",
    "\n",
    "# so now we need to make a new commit to save a snapshot to the history tree using git commit\n",
    "# you need to annotate these changes so you know what's going on later -> will popup for you to add, just annotate and close the window\n",
    "# now these changes are saved to a new commit in the local instance\n",
    "# or use git commit -m 'annotations here'\n",
    "\n",
    "# to sync to the github repository we need to use git push\n",
    "# this is a bit different if we're not using a github codespace -> check course notes\n",
    "\n",
    "# you want to commit regularly to track small changes\n",
    "# typically we don't want to add data files, just code\n",
    "# to make git ignore these make a .gitignore file\n",
    "# in this file, list any file/folder we want it to ignore\n",
    "# to commit everything, use git commit -a\n",
    "# to undo a git commit, use git reset --soft HEAD~1\n",
    "# soft just means the changes won't be reversed, just the commit\n",
    "\n",
    "# you can do an oopsie and go back so far that github has a more recent commit than you\n",
    "# git does not enjoy this and will complain"
   ]
  },
  {
   "attachments": {},
   "cell_type": "markdown",
   "metadata": {},
   "source": [
    "### Pandas"
   ]
  },
  {
   "cell_type": "code",
   "execution_count": 10,
   "metadata": {},
   "outputs": [
    {
     "name": "stdout",
     "output_type": "stream",
     "text": [
      "Archive:  data/portal-teachingdb-master.zip\n",
      "  inflating: portal-teachingdb-master/surveys2001.csv  \n",
      "  inflating: portal-teachingdb-master/surveys2002.csv  \n",
      "  inflating: portal-teachingdb-master/speciesSubset.csv  \n",
      "  inflating: portal-teachingdb-master/bouldercreek_09_2013.txt  \n",
      "  inflating: portal-teachingdb-master/species.csv  \n",
      "  inflating: portal-teachingdb-master/surveys.csv  \n",
      "  inflating: portal-teachingdb-master/portal_mammals.sqlite  \n",
      "  inflating: portal-teachingdb-master/README.txt  \n",
      "  inflating: portal-teachingdb-master/plots.csv  \n"
     ]
    }
   ],
   "source": [
    "# lets use some data!\n",
    "# we have data on the repository already but it is zipped booooo\n",
    "# lets unzip it with a terminal command -> we can tell our notebook to run this in the command line using !\n",
    "\n",
    "! unzip -o data/portal-teachingdb-master.zip # -o just means it can overwrite\n",
    "# now we have a folder containing our files yay"
   ]
  },
  {
   "cell_type": "code",
   "execution_count": 11,
   "metadata": {},
   "outputs": [],
   "source": [
    "# using packages\n",
    "# we have already installed pandas with pip install. you can't import until this point\n",
    "import pandas as pd\n",
    "# the 'as' aliases pandas as pd\n",
    "# this means we can now use functions from pandas with pd.<function>, instead of pandas.<function>"
   ]
  },
  {
   "cell_type": "code",
   "execution_count": 12,
   "metadata": {},
   "outputs": [
    {
     "data": {
      "text/plain": [
       "pandas.core.frame.DataFrame"
      ]
     },
     "execution_count": 12,
     "metadata": {},
     "output_type": "execute_result"
    }
   ],
   "source": [
    "# reading a file in\n",
    "pd.read_csv('portal-teachingdb-master/surveys.csv')\n",
    "# to be able to mess around in this, we want to assign it to a variable\n",
    "surveys_df = pd.read_csv('portal-teachingdb-master/surveys.csv')\n",
    "# this is now saved as an object. pandas also indexes this data, also starts from 0\n",
    "# we can run functions attached to objects -> the type of dataframe here has a function head attached\n",
    "surveys_df.head()\n",
    "type(surveys_df)"
   ]
  },
  {
   "cell_type": "code",
   "execution_count": 13,
   "metadata": {},
   "outputs": [
    {
     "data": {
      "text/plain": [
       "record_id            int64\n",
       "month                int64\n",
       "day                  int64\n",
       "year                 int64\n",
       "plot_id              int64\n",
       "species_id          object\n",
       "sex                 object\n",
       "hindfoot_length    float64\n",
       "weight             float64\n",
       "dtype: object"
      ]
     },
     "execution_count": 13,
     "metadata": {},
     "output_type": "execute_result"
    }
   ],
   "source": [
    "\n",
    "# we can have a lil look at our data\n",
    "surveys_df.dtypes\n",
    "# this isn't a function! this just pulls out data that pandas has already added about the data types\n",
    "# pandas is based on numpy so the data types are slightly different than standard python types e.g. int64 vs integer"
   ]
  },
  {
   "cell_type": "code",
   "execution_count": 14,
   "metadata": {},
   "outputs": [
    {
     "data": {
      "text/plain": [
       "(35549, 9)"
      ]
     },
     "execution_count": 14,
     "metadata": {},
     "output_type": "execute_result"
    }
   ],
   "source": [
    "# pandas adds some other data too, which can be added in the same way\n",
    "surveys_df.columns\n",
    "surveys_df.index\n",
    "surveys_df.shape # output is tupple"
   ]
  },
  {
   "cell_type": "code",
   "execution_count": 15,
   "metadata": {},
   "outputs": [
    {
     "data": {
      "text/html": [
       "<div>\n",
       "<style scoped>\n",
       "    .dataframe tbody tr th:only-of-type {\n",
       "        vertical-align: middle;\n",
       "    }\n",
       "\n",
       "    .dataframe tbody tr th {\n",
       "        vertical-align: top;\n",
       "    }\n",
       "\n",
       "    .dataframe thead th {\n",
       "        text-align: right;\n",
       "    }\n",
       "</style>\n",
       "<table border=\"1\" class=\"dataframe\">\n",
       "  <thead>\n",
       "    <tr style=\"text-align: right;\">\n",
       "      <th></th>\n",
       "      <th>record_id</th>\n",
       "      <th>month</th>\n",
       "      <th>day</th>\n",
       "      <th>year</th>\n",
       "      <th>plot_id</th>\n",
       "      <th>species_id</th>\n",
       "      <th>sex</th>\n",
       "      <th>hindfoot_length</th>\n",
       "      <th>weight</th>\n",
       "    </tr>\n",
       "  </thead>\n",
       "  <tbody>\n",
       "    <tr>\n",
       "      <th>0</th>\n",
       "      <td>1</td>\n",
       "      <td>7</td>\n",
       "      <td>16</td>\n",
       "      <td>1977</td>\n",
       "      <td>2</td>\n",
       "      <td>NL</td>\n",
       "      <td>M</td>\n",
       "      <td>32.0</td>\n",
       "      <td>NaN</td>\n",
       "    </tr>\n",
       "    <tr>\n",
       "      <th>1</th>\n",
       "      <td>2</td>\n",
       "      <td>7</td>\n",
       "      <td>16</td>\n",
       "      <td>1977</td>\n",
       "      <td>3</td>\n",
       "      <td>NL</td>\n",
       "      <td>M</td>\n",
       "      <td>33.0</td>\n",
       "      <td>NaN</td>\n",
       "    </tr>\n",
       "    <tr>\n",
       "      <th>2</th>\n",
       "      <td>3</td>\n",
       "      <td>7</td>\n",
       "      <td>16</td>\n",
       "      <td>1977</td>\n",
       "      <td>2</td>\n",
       "      <td>DM</td>\n",
       "      <td>F</td>\n",
       "      <td>37.0</td>\n",
       "      <td>NaN</td>\n",
       "    </tr>\n",
       "    <tr>\n",
       "      <th>3</th>\n",
       "      <td>4</td>\n",
       "      <td>7</td>\n",
       "      <td>16</td>\n",
       "      <td>1977</td>\n",
       "      <td>7</td>\n",
       "      <td>DM</td>\n",
       "      <td>M</td>\n",
       "      <td>36.0</td>\n",
       "      <td>NaN</td>\n",
       "    </tr>\n",
       "    <tr>\n",
       "      <th>4</th>\n",
       "      <td>5</td>\n",
       "      <td>7</td>\n",
       "      <td>16</td>\n",
       "      <td>1977</td>\n",
       "      <td>3</td>\n",
       "      <td>DM</td>\n",
       "      <td>M</td>\n",
       "      <td>35.0</td>\n",
       "      <td>NaN</td>\n",
       "    </tr>\n",
       "    <tr>\n",
       "      <th>...</th>\n",
       "      <td>...</td>\n",
       "      <td>...</td>\n",
       "      <td>...</td>\n",
       "      <td>...</td>\n",
       "      <td>...</td>\n",
       "      <td>...</td>\n",
       "      <td>...</td>\n",
       "      <td>...</td>\n",
       "      <td>...</td>\n",
       "    </tr>\n",
       "    <tr>\n",
       "      <th>95</th>\n",
       "      <td>96</td>\n",
       "      <td>8</td>\n",
       "      <td>20</td>\n",
       "      <td>1977</td>\n",
       "      <td>12</td>\n",
       "      <td>DM</td>\n",
       "      <td>M</td>\n",
       "      <td>36.0</td>\n",
       "      <td>41.0</td>\n",
       "    </tr>\n",
       "    <tr>\n",
       "      <th>96</th>\n",
       "      <td>97</td>\n",
       "      <td>8</td>\n",
       "      <td>20</td>\n",
       "      <td>1977</td>\n",
       "      <td>18</td>\n",
       "      <td>DM</td>\n",
       "      <td>M</td>\n",
       "      <td>36.0</td>\n",
       "      <td>41.0</td>\n",
       "    </tr>\n",
       "    <tr>\n",
       "      <th>97</th>\n",
       "      <td>98</td>\n",
       "      <td>8</td>\n",
       "      <td>20</td>\n",
       "      <td>1977</td>\n",
       "      <td>5</td>\n",
       "      <td>DM</td>\n",
       "      <td>M</td>\n",
       "      <td>38.0</td>\n",
       "      <td>40.0</td>\n",
       "    </tr>\n",
       "    <tr>\n",
       "      <th>98</th>\n",
       "      <td>99</td>\n",
       "      <td>8</td>\n",
       "      <td>20</td>\n",
       "      <td>1977</td>\n",
       "      <td>11</td>\n",
       "      <td>DM</td>\n",
       "      <td>M</td>\n",
       "      <td>37.0</td>\n",
       "      <td>45.0</td>\n",
       "    </tr>\n",
       "    <tr>\n",
       "      <th>99</th>\n",
       "      <td>100</td>\n",
       "      <td>8</td>\n",
       "      <td>20</td>\n",
       "      <td>1977</td>\n",
       "      <td>5</td>\n",
       "      <td>DS</td>\n",
       "      <td>F</td>\n",
       "      <td>54.0</td>\n",
       "      <td>NaN</td>\n",
       "    </tr>\n",
       "  </tbody>\n",
       "</table>\n",
       "<p>100 rows × 9 columns</p>\n",
       "</div>"
      ],
      "text/plain": [
       "    record_id  month  day  year  plot_id species_id sex  hindfoot_length   \n",
       "0           1      7   16  1977        2         NL   M             32.0  \\\n",
       "1           2      7   16  1977        3         NL   M             33.0   \n",
       "2           3      7   16  1977        2         DM   F             37.0   \n",
       "3           4      7   16  1977        7         DM   M             36.0   \n",
       "4           5      7   16  1977        3         DM   M             35.0   \n",
       "..        ...    ...  ...   ...      ...        ...  ..              ...   \n",
       "95         96      8   20  1977       12         DM   M             36.0   \n",
       "96         97      8   20  1977       18         DM   M             36.0   \n",
       "97         98      8   20  1977        5         DM   M             38.0   \n",
       "98         99      8   20  1977       11         DM   M             37.0   \n",
       "99        100      8   20  1977        5         DS   F             54.0   \n",
       "\n",
       "    weight  \n",
       "0      NaN  \n",
       "1      NaN  \n",
       "2      NaN  \n",
       "3      NaN  \n",
       "4      NaN  \n",
       "..     ...  \n",
       "95    41.0  \n",
       "96    41.0  \n",
       "97    40.0  \n",
       "98    45.0  \n",
       "99     NaN  \n",
       "\n",
       "[100 rows x 9 columns]"
      ]
     },
     "execution_count": 15,
     "metadata": {},
     "output_type": "execute_result"
    }
   ],
   "source": [
    "# we can call columns. as series (single dimension)\n",
    "surveys_df['hindfoot_length']\n",
    "# NaN\n",
    "# NaN indicates missing data in pandas. although not numerical, they are treated as floats\n",
    "\n",
    "# we can call rows using the index. same logic as with lists\n",
    "surveys_df[1:2] # this calls the second row\n",
    "surveys_df[:100] # this calls the first 100 rows"
   ]
  },
  {
   "cell_type": "code",
   "execution_count": 16,
   "metadata": {},
   "outputs": [
    {
     "data": {
      "text/plain": [
       "count    32283.000000\n",
       "mean        42.672428\n",
       "std         36.631259\n",
       "min          4.000000\n",
       "25%         20.000000\n",
       "50%         37.000000\n",
       "75%         48.000000\n",
       "max        280.000000\n",
       "Name: weight, dtype: float64"
      ]
     },
     "execution_count": 16,
     "metadata": {},
     "output_type": "execute_result"
    }
   ],
   "source": [
    "# lets cronch some numbers\n",
    "# descriptive statistics\n",
    "# we can call functions from individual columns\n",
    "surveys_df['weight'].describe()\n",
    "# this excludes the NaNs as standard"
   ]
  },
  {
   "cell_type": "code",
   "execution_count": 17,
   "metadata": {},
   "outputs": [
    {
     "data": {
      "text/plain": [
       "4.0"
      ]
     },
     "execution_count": 17,
     "metadata": {},
     "output_type": "execute_result"
    }
   ],
   "source": [
    "# alternatively we can get specific descriptive stats e.g.\n",
    "surveys_df['weight'].std()\n",
    "surveys_df['weight'].mean()\n",
    "surveys_df['weight'].min()"
   ]
  },
  {
   "attachments": {},
   "cell_type": "markdown",
   "metadata": {},
   "source": [
    "### Grouping data"
   ]
  },
  {
   "cell_type": "code",
   "execution_count": 18,
   "metadata": {},
   "outputs": [
    {
     "data": {
      "text/plain": [
       "sex\n",
       "F    42.170555\n",
       "M    42.995379\n",
       "Name: weight, dtype: float64"
      ]
     },
     "execution_count": 18,
     "metadata": {},
     "output_type": "execute_result"
    }
   ],
   "source": [
    "# with pandas we can group the entire dataset using groupby\n",
    "gr_sex = surveys_df.groupby('sex')\n",
    "# this data looks a bit funky ngl. can print, head or tail to see\n",
    "gr_sex['weight'].describe()\n",
    "gr_sex['weight'].mean()"
   ]
  },
  {
   "cell_type": "code",
   "execution_count": 19,
   "metadata": {},
   "outputs": [
    {
     "name": "stdout",
     "output_type": "stream",
     "text": [
      "       weight  sex\n",
      "0         NaN    M\n",
      "1         NaN    M\n",
      "2         NaN    F\n",
      "3         NaN    M\n",
      "4         NaN    M\n",
      "...       ...  ...\n",
      "35544     NaN  NaN\n",
      "35545     NaN  NaN\n",
      "35546    14.0    F\n",
      "35547    51.0    M\n",
      "35548     NaN  NaN\n",
      "\n",
      "[35549 rows x 2 columns]\n"
     ]
    }
   ],
   "source": [
    "# you can groupby multiple factors to further subset our data\n",
    "desired_cols = ['weight','sex']\n",
    "sex_weight = surveys_df[desired_cols]\n",
    "print(sex_weight)"
   ]
  },
  {
   "cell_type": "code",
   "execution_count": 22,
   "metadata": {},
   "outputs": [
    {
     "name": "stdout",
     "output_type": "stream",
     "text": [
      "0         NaN\n",
      "1         NaN\n",
      "2         NaN\n",
      "3         NaN\n",
      "4         NaN\n",
      "         ... \n",
      "35544     NaN\n",
      "35545     NaN\n",
      "35546    15.4\n",
      "35547    56.1\n",
      "35548     NaN\n",
      "Name: weights, Length: 35549, dtype: float64\n"
     ]
    }
   ],
   "source": [
    "# vectorised maths on columns\n",
    "# lets drop NaNs first\n",
    "surveys_df['weight'].dropna()\n",
    "# imagine we want to correct this data because we know all values need to be increased by 10%\n",
    "surveys_df['weight'].dropna() * 1.1\n",
    "# this doesn't change the original data\n",
    "# if we want it to change the original data, we can do that!\n",
    "surveys_df['weights'] = surveys_df['weight'].dropna() * 1.1\n",
    "print(surveys_df['weights'])"
   ]
  },
  {
   "cell_type": "code",
   "execution_count": 31,
   "metadata": {},
   "outputs": [
    {
     "data": {
      "image/png": "[encoded data removed]",
      "text/plain": [
       "<Figure size 640x480 with 1 Axes>"
      ]
     },
     "metadata": {},
     "output_type": "display_data"
    }
   ],
   "source": [
    "# pip install matplotlib and restart\n",
    "# lets make a plot babeee\n",
    "surveys_df['weights'].plot(kind='hist',xlabel='weight')\n",
    "import matplotlib.pyplot as plt\n",
    "# to save a fig. \n",
    "plt.savefig('figures/weights_hist.png',dpi=300)\n",
    "# typically don't commit the figures either, as we are not committing the data"
   ]
  },
  {
   "cell_type": "code",
   "execution_count": 24,
   "metadata": {},
   "outputs": [
    {
     "data": {
      "text/html": [
       "<div>\n",
       "<style scoped>\n",
       "    .dataframe tbody tr th:only-of-type {\n",
       "        vertical-align: middle;\n",
       "    }\n",
       "\n",
       "    .dataframe tbody tr th {\n",
       "        vertical-align: top;\n",
       "    }\n",
       "\n",
       "    .dataframe thead th {\n",
       "        text-align: right;\n",
       "    }\n",
       "</style>\n",
       "<table border=\"1\" class=\"dataframe\">\n",
       "  <thead>\n",
       "    <tr style=\"text-align: right;\">\n",
       "      <th></th>\n",
       "      <th>record_id</th>\n",
       "      <th>month</th>\n",
       "      <th>day</th>\n",
       "      <th>year</th>\n",
       "      <th>plot_id</th>\n",
       "      <th>species_id</th>\n",
       "      <th>sex</th>\n",
       "      <th>hindfoot_length</th>\n",
       "      <th>weight</th>\n",
       "      <th>weights</th>\n",
       "    </tr>\n",
       "  </thead>\n",
       "  <tbody>\n",
       "    <tr>\n",
       "      <th>0</th>\n",
       "      <td>1</td>\n",
       "      <td>7</td>\n",
       "      <td>16</td>\n",
       "      <td>1977</td>\n",
       "      <td>2</td>\n",
       "      <td>NL</td>\n",
       "      <td>M</td>\n",
       "      <td>32.0</td>\n",
       "      <td>NaN</td>\n",
       "      <td>NaN</td>\n",
       "    </tr>\n",
       "    <tr>\n",
       "      <th>1</th>\n",
       "      <td>2</td>\n",
       "      <td>7</td>\n",
       "      <td>16</td>\n",
       "      <td>1977</td>\n",
       "      <td>3</td>\n",
       "      <td>NL</td>\n",
       "      <td>M</td>\n",
       "      <td>33.0</td>\n",
       "      <td>NaN</td>\n",
       "      <td>NaN</td>\n",
       "    </tr>\n",
       "    <tr>\n",
       "      <th>2</th>\n",
       "      <td>3</td>\n",
       "      <td>7</td>\n",
       "      <td>16</td>\n",
       "      <td>1977</td>\n",
       "      <td>2</td>\n",
       "      <td>DM</td>\n",
       "      <td>F</td>\n",
       "      <td>37.0</td>\n",
       "      <td>NaN</td>\n",
       "      <td>NaN</td>\n",
       "    </tr>\n",
       "    <tr>\n",
       "      <th>3</th>\n",
       "      <td>4</td>\n",
       "      <td>7</td>\n",
       "      <td>16</td>\n",
       "      <td>1977</td>\n",
       "      <td>7</td>\n",
       "      <td>DM</td>\n",
       "      <td>M</td>\n",
       "      <td>36.0</td>\n",
       "      <td>NaN</td>\n",
       "      <td>NaN</td>\n",
       "    </tr>\n",
       "    <tr>\n",
       "      <th>4</th>\n",
       "      <td>5</td>\n",
       "      <td>7</td>\n",
       "      <td>16</td>\n",
       "      <td>1977</td>\n",
       "      <td>3</td>\n",
       "      <td>DM</td>\n",
       "      <td>M</td>\n",
       "      <td>35.0</td>\n",
       "      <td>NaN</td>\n",
       "      <td>NaN</td>\n",
       "    </tr>\n",
       "  </tbody>\n",
       "</table>\n",
       "</div>"
      ],
      "text/plain": [
       "   record_id  month  day  year  plot_id species_id sex  hindfoot_length   \n",
       "0          1      7   16  1977        2         NL   M             32.0  \\\n",
       "1          2      7   16  1977        3         NL   M             33.0   \n",
       "2          3      7   16  1977        2         DM   F             37.0   \n",
       "3          4      7   16  1977        7         DM   M             36.0   \n",
       "4          5      7   16  1977        3         DM   M             35.0   \n",
       "\n",
       "   weight  weights  \n",
       "0     NaN      NaN  \n",
       "1     NaN      NaN  \n",
       "2     NaN      NaN  \n",
       "3     NaN      NaN  \n",
       "4     NaN      NaN  "
      ]
     },
     "execution_count": 24,
     "metadata": {},
     "output_type": "execute_result"
    }
   ],
   "source": [
    "surveys_df.head()"
   ]
  },
  {
   "cell_type": "markdown",
   "metadata": {},
   "source": [
    "### subsetting"
   ]
  },
  {
   "cell_type": "code",
   "execution_count": 37,
   "metadata": {},
   "outputs": [
    {
     "name": "stdout",
     "output_type": "stream",
     "text": [
      "       record_id  month  day  year  plot_id species_id  sex  hindfoot_length   \n",
      "27413      27414      1   31  1998       12         DM    F             35.0  \\\n",
      "27414      27415      1   31  1998       12         DM    M             36.0   \n",
      "27415      27416      1   31  1998       12         DM    F             34.0   \n",
      "27416      27417      1   31  1998       20         PM    F             20.0   \n",
      "27417      27418      1   31  1998       19         OT    M             21.0   \n",
      "...          ...    ...  ...   ...      ...        ...  ...              ...   \n",
      "29018      29019     12   23  1998       15         AH  NaN              NaN   \n",
      "29019      29020     12   23  1998        5         DM    F             36.0   \n",
      "29020      29021     12   23  1998        5         PM    M             21.0   \n",
      "29021      29022     12   23  1998       10         PM    M             22.0   \n",
      "29022      29023     12   23  1998       16         RM    M             16.0   \n",
      "\n",
      "       weight  weights  \n",
      "27413    41.0     45.1  \n",
      "27414    43.0     47.3  \n",
      "27415    41.0     45.1  \n",
      "27416    21.0     23.1  \n",
      "27417    18.0     19.8  \n",
      "...       ...      ...  \n",
      "29018     NaN      NaN  \n",
      "29019    45.0     49.5  \n",
      "29020    27.0     29.7  \n",
      "29021    24.0     26.4  \n",
      "29022    29.0     31.9  \n",
      "\n",
      "[1610 rows x 10 columns]\n"
     ]
    }
   ],
   "source": [
    "# conditional subsetting\n",
    "# lets use some logical comparisons!\n",
    "surveys_df['year'] == 1998\n",
    "# boolean = true/false. this creates a boolean mask\n",
    "# we can use these to subset data\n",
    "yr1998 = surveys_df[surveys_df['year'] == 1998]\n",
    "print(yr1998)"
   ]
  },
  {
   "cell_type": "code",
   "execution_count": 42,
   "metadata": {},
   "outputs": [
    {
     "name": "stdout",
     "output_type": "stream",
     "text": [
      "       record_id  month  day  year  plot_id species_id sex  hindfoot_length   \n",
      "27413      27414      1   31  1998       12         DM   F             35.0  \\\n",
      "27415      27416      1   31  1998       12         DM   F             34.0   \n",
      "27416      27417      1   31  1998       20         PM   F             20.0   \n",
      "27419      27420      1   31  1998       18         PM   F             26.0   \n",
      "27425      27426      1   31  1998        2         DS   F             51.0   \n",
      "...          ...    ...  ...   ...      ...        ...  ..              ...   \n",
      "29008      29009     12   23  1998       13         DM   F             36.0   \n",
      "29009      29010     12   23  1998       13         PB   F             26.0   \n",
      "29012      29013     12   23  1998       14         DM   F             37.0   \n",
      "29013      29014     12   23  1998       14         OT   F             20.0   \n",
      "29019      29020     12   23  1998        5         DM   F             36.0   \n",
      "\n",
      "       weight  weights  \n",
      "27413    41.0     45.1  \n",
      "27415    41.0     45.1  \n",
      "27416    21.0     23.1  \n",
      "27419    28.0     30.8  \n",
      "27425   122.0    134.2  \n",
      "...       ...      ...  \n",
      "29008    39.0     42.9  \n",
      "29009    33.0     36.3  \n",
      "29012    50.0     55.0  \n",
      "29013    25.0     27.5  \n",
      "29019    45.0     49.5  \n",
      "\n",
      "[717 rows x 10 columns]\n"
     ]
    }
   ],
   "source": [
    "# we can combine these together easily\n",
    "# & requires both to be true\n",
    "bool_mask = (surveys_df['sex'] == 'F') & (surveys_df['year'] == 1998)\n",
    "surveys_df[bool_mask]\n",
    "data_1998F = surveys_df[bool_mask]\n",
    "print(data_1998F)"
   ]
  },
  {
   "cell_type": "code",
   "execution_count": 43,
   "metadata": {},
   "outputs": [],
   "source": [
    "# exporting data using pandas\n",
    "\n",
    "data_1998F.to_csv('data/subset_1998F.csv')"
   ]
  }
 ],
 "metadata": {
  "kernelspec": {
   "display_name": "Python 3",
   "language": "python",
   "name": "python3"
  },
  "language_info": {
   "codemirror_mode": {
    "name": "ipython",
    "version": 3
   },
   "file_extension": ".py",
   "mimetype": "text/x-python",
   "name": "python",
   "nbconvert_exporter": "python",
   "pygments_lexer": "ipython3",
   "version": "3.11.2"
  },
  "orig_nbformat": 4
 },
 "nbformat": 4,
 "nbformat_minor": 2
}
