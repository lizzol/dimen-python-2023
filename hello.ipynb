{
 "cells": [
  {
   "attachments": {},
   "cell_type": "markdown",
   "metadata": {},
   "source": [
    "### Intro to data types"
   ]
  },
  {
   "cell_type": "code",
   "execution_count": null,
   "metadata": {},
   "outputs": [],
   "source": [
    "# we can use the print function to print a string with either \" or '\n",
    "print('hello world! :)')"
   ]
  },
  {
   "cell_type": "code",
   "execution_count": null,
   "metadata": {},
   "outputs": [],
   "source": [
    "# we can set variables of many types e.g. strings\n",
    "test = 'hello'\n",
    "print(test)\n",
    "# this allows us to store data so we can mess with it"
   ]
  },
  {
   "cell_type": "code",
   "execution_count": null,
   "metadata": {},
   "outputs": [],
   "source": [
    "# we can find out the data type by using the type function\n",
    "type(test)\n",
    "# numeric types can be integers or floats\n",
    "\n",
    "#integer\n",
    "number = 10\n",
    "#float\n",
    "floaty = 5.4"
   ]
  },
  {
   "cell_type": "code",
   "execution_count": null,
   "metadata": {},
   "outputs": [],
   "source": [
    "# numbers can be used together regardless of type\n",
    "\n",
    "add = number + floaty\n",
    "print(add)\n",
    "\n",
    "# some types aren't compatible e.g. integer + string (because it doesn't know whether to add or concatenate)"
   ]
  },
  {
   "attachments": {},
   "cell_type": "markdown",
   "metadata": {},
   "source": [
    "### Operators"
   ]
  },
  {
   "cell_type": "code",
   "execution_count": null,
   "metadata": {},
   "outputs": [],
   "source": [
    "# operators include + - / *\n",
    "# division normally makes floats, even when input and output could both be integers\n",
    "36 / 6\n",
    "\n",
    "15 // 5\n",
    "\n",
    "# modulo outputs remainder when dividing\n",
    "15 % 2\n",
    "\n",
    "# exponents use **"
   ]
  },
  {
   "cell_type": "code",
   "execution_count": null,
   "metadata": {},
   "outputs": [],
   "source": [
    "# strings can be concatenated\n",
    "\"foo\" + \"bar\"\n",
    "\n",
    "# but many operators can't use strings\n",
    "# e.g. \"foo\" - \"bar\"\n",
    "\n",
    "# strings can even be multiplied\n",
    "\"foo\" * 10"
   ]
  },
  {
   "attachments": {},
   "cell_type": "markdown",
   "metadata": {},
   "source": [
    "### Python Collections "
   ]
  },
  {
   "cell_type": "code",
   "execution_count": 44,
   "metadata": {},
   "outputs": [
    {
     "name": "stdout",
     "output_type": "stream",
     "text": [
      "[1, '2', 3.2]\n",
      "1\n",
      "3.2\n",
      "[1, '2']\n",
      "['2', 3.2]\n"
     ]
    }
   ],
   "source": [
    "# lists are in []\n",
    "my_list = [1, '2', 3.2]\n",
    "print(my_list)\n",
    "\n",
    "# lists are indexed. this always starts from 0 (unlike R)\n",
    "# to extract data from these lists we can use the index\n",
    "print(my_list[0])\n",
    "# we can also count from the end of the list\n",
    "print(my_list[-1])\n",
    "\n",
    "# we can return a subset of the list\n",
    "print(my_list[0:2]) # returns [1, '2']\n",
    "# this returns everything from index 1 to the end of the list\n",
    "print(my_list[1:]) # returns ['2', 3.2]"
   ]
  },
  {
   "cell_type": "code",
   "execution_count": 47,
   "metadata": {},
   "outputs": [
    {
     "name": "stdout",
     "output_type": "stream",
     "text": [
      "2\n",
      "[4, 5, 6]\n"
     ]
    }
   ],
   "source": [
    "# dictionary\n",
    "# input key:value\n",
    "# values can be many forms e.g. lists\n",
    "my_dict = {'one':1, 'two':2, 'three':3, 'a_few_more':[4,5,6]}\n",
    "\n",
    "# a dictionary isn't indexed, as it uses the keys we input instead\n",
    "# to return specific values, you have to input the associated key \n",
    "print(my_dict['two'])\n",
    "print(my_dict['a_few_more'])\n",
    "# can be useful for things like gene names\n",
    "# it is also often quicker to return values"
   ]
  },
  {
   "attachments": {},
   "cell_type": "markdown",
   "metadata": {},
   "source": [
    "### version control"
   ]
  },
  {
   "cell_type": "code",
   "execution_count": null,
   "metadata": {},
   "outputs": [],
   "source": [
    "# to reduce the storage used, we can save changes instead of saving the whole code with the changes made every time we want to adjust\n",
    "# this gives us a history of all the changes which can be very useful for e.g. reproducibility, retracing steps\n",
    "# git is an application used for version control. must be installed\n",
    "# on this you can save commits (snapshots of changes)\n",
    "# github allows you to share repositories with all these history trees to a remote server -> not just with other people, also a way to \n",
    "# backup code for yourself and share between devices. they can be private or public. if made public you should include a license\n",
    "# git and github are a bit weird -> guide on the hackpad\n",
    "\n",
    "# on the terminal (command line) use git init command to activate git\n",
    "# git status tells us what is tracked/untracked to our commit\n",
    "# git add hello.ipynb adds our current file to our commit\n",
    "# this can be reversed with git restore\n",
    "# it best to add changes in little chunks just in case we want to undo later\n",
    "\n",
    "# so now we need to make a new commit to save a snapshot to the history tree using git commit\n",
    "# you need to annotate these changes so you know what's going on later -> will popup for you to add, just annotate and close the window\n",
    "# now these changes are saved to a new commit in the local instance\n",
    "# or use git commit -m 'annotations here'\n",
    "\n",
    "# to sync to the github repository we need to use git push\n",
    "# this is a bit different if we're not using a github codespace -> check course notes\n",
    "\n",
    "# you want to commit regularly to track small changes\n",
    "# typically we don't want to add data files, just code"
   ]
  },
  {
   "attachments": {},
   "cell_type": "markdown",
   "metadata": {},
   "source": [
    "### Pandas"
   ]
  },
  {
   "cell_type": "code",
   "execution_count": 49,
   "metadata": {},
   "outputs": [
    {
     "name": "stdout",
     "output_type": "stream",
     "text": [
      "6538.44s - pydevd: Sending message related to process being replaced timed-out after 5 seconds\n",
      "Archive:  data/portal-teachingdb-master.zip\n",
      "   creating: portal-teachingdb-master/\n",
      "  inflating: portal-teachingdb-master/surveys2001.csv  \n",
      "  inflating: portal-teachingdb-master/surveys2002.csv  \n",
      "  inflating: portal-teachingdb-master/speciesSubset.csv  \n",
      "  inflating: portal-teachingdb-master/bouldercreek_09_2013.txt  \n",
      "  inflating: portal-teachingdb-master/species.csv  \n",
      "  inflating: portal-teachingdb-master/surveys.csv  \n",
      "  inflating: portal-teachingdb-master/portal_mammals.sqlite  \n",
      "  inflating: portal-teachingdb-master/README.txt  \n",
      "  inflating: portal-teachingdb-master/plots.csv  \n"
     ]
    }
   ],
   "source": [
    "# lets use some data!\n",
    "# we have data on the repository already but it is zipped booooo\n",
    "# lets unzip it with a terminal command -> we can tell our notebook to run this in the command line using !\n",
    "\n",
    "! unzip data/portal-teachingdb-master.zip\n",
    "# now we have a folder containing our files yay"
   ]
  },
  {
   "cell_type": "code",
   "execution_count": 50,
   "metadata": {},
   "outputs": [],
   "source": [
    "# using packages\n",
    "# we have already installed pandas with pip install. you can't import until this point\n",
    "import pandas as pd\n",
    "# the 'as' aliases pandas as pd\n",
    "# this means we can now use functions from pandas with pd.<function>, instead of pandas.<function>"
   ]
  },
  {
   "cell_type": "code",
   "execution_count": 53,
   "metadata": {},
   "outputs": [],
   "source": [
    "# reading a file in\n",
    "pd.read_csv('portal-teachingdb-master/surveys.csv')\n",
    "# to be able to mess around in this, we want to assign it to a variable\n",
    "surveys_df = pd.read_csv('portal-teachingdb-master/surveys.csv')"
   ]
  }
 ],
 "metadata": {
  "kernelspec": {
   "display_name": "Python 3",
   "language": "python",
   "name": "python3"
  },
  "language_info": {
   "codemirror_mode": {
    "name": "ipython",
    "version": 3
   },
   "file_extension": ".py",
   "mimetype": "text/x-python",
   "name": "python",
   "nbconvert_exporter": "python",
   "pygments_lexer": "ipython3",
   "version": "3.11.2"
  },
  "orig_nbformat": 4
 },
 "nbformat": 4,
 "nbformat_minor": 2
}
